{
  "nbformat": 4,
  "nbformat_minor": 0,
  "metadata": {
    "colab": {
      "name": "NLPSubmission.ipynb",
      "provenance": [],
      "collapsed_sections": []
    },
    "kernelspec": {
      "name": "python3",
      "display_name": "Python 3"
    },
    "language_info": {
      "name": "python"
    }
  },
  "cells": [
    {
      "cell_type": "code",
      "metadata": {
        "colab": {
          "base_uri": "https://localhost:8080/",
          "height": 204
        },
        "id": "umb5nix3x1xZ",
        "outputId": "97f2122a-8ccd-42ca-ca45-00c07fce1526"
      },
      "source": [
        "import pandas as pd\n",
        "df = pd.read_csv('Corona_NLP_train.csv',encoding=\"latin1\")\n",
        "# df = df.drop(columns=['UserName','ScreenName','Location','TweetAt'])\n",
        "df.head()"
      ],
      "execution_count": 221,
      "outputs": [
        {
          "output_type": "execute_result",
          "data": {
            "text/html": [
              "<div>\n",
              "<style scoped>\n",
              "    .dataframe tbody tr th:only-of-type {\n",
              "        vertical-align: middle;\n",
              "    }\n",
              "\n",
              "    .dataframe tbody tr th {\n",
              "        vertical-align: top;\n",
              "    }\n",
              "\n",
              "    .dataframe thead th {\n",
              "        text-align: right;\n",
              "    }\n",
              "</style>\n",
              "<table border=\"1\" class=\"dataframe\">\n",
              "  <thead>\n",
              "    <tr style=\"text-align: right;\">\n",
              "      <th></th>\n",
              "      <th>UserName</th>\n",
              "      <th>ScreenName</th>\n",
              "      <th>Location</th>\n",
              "      <th>TweetAt</th>\n",
              "      <th>OriginalTweet</th>\n",
              "      <th>Sentiment</th>\n",
              "    </tr>\n",
              "  </thead>\n",
              "  <tbody>\n",
              "    <tr>\n",
              "      <th>0</th>\n",
              "      <td>3799</td>\n",
              "      <td>48751</td>\n",
              "      <td>London</td>\n",
              "      <td>16-03-2020</td>\n",
              "      <td>@MeNyrbie @Phil_Gahan @Chrisitv https://t.co/i...</td>\n",
              "      <td>Neutral</td>\n",
              "    </tr>\n",
              "    <tr>\n",
              "      <th>1</th>\n",
              "      <td>3800</td>\n",
              "      <td>48752</td>\n",
              "      <td>UK</td>\n",
              "      <td>16-03-2020</td>\n",
              "      <td>advice Talk to your neighbours family to excha...</td>\n",
              "      <td>Positive</td>\n",
              "    </tr>\n",
              "    <tr>\n",
              "      <th>2</th>\n",
              "      <td>3801</td>\n",
              "      <td>48753</td>\n",
              "      <td>Vagabonds</td>\n",
              "      <td>16-03-2020</td>\n",
              "      <td>Coronavirus Australia: Woolworths to give elde...</td>\n",
              "      <td>Positive</td>\n",
              "    </tr>\n",
              "    <tr>\n",
              "      <th>3</th>\n",
              "      <td>3802</td>\n",
              "      <td>48754</td>\n",
              "      <td>NaN</td>\n",
              "      <td>16-03-2020</td>\n",
              "      <td>My food stock is not the only one which is emp...</td>\n",
              "      <td>Positive</td>\n",
              "    </tr>\n",
              "    <tr>\n",
              "      <th>4</th>\n",
              "      <td>3803</td>\n",
              "      <td>48755</td>\n",
              "      <td>NaN</td>\n",
              "      <td>16-03-2020</td>\n",
              "      <td>Me, ready to go at supermarket during the #COV...</td>\n",
              "      <td>Extremely Negative</td>\n",
              "    </tr>\n",
              "  </tbody>\n",
              "</table>\n",
              "</div>"
            ],
            "text/plain": [
              "   UserName  ...           Sentiment\n",
              "0      3799  ...             Neutral\n",
              "1      3800  ...            Positive\n",
              "2      3801  ...            Positive\n",
              "3      3802  ...            Positive\n",
              "4      3803  ...  Extremely Negative\n",
              "\n",
              "[5 rows x 6 columns]"
            ]
          },
          "metadata": {
            "tags": []
          },
          "execution_count": 221
        }
      ]
    },
    {
      "cell_type": "code",
      "metadata": {
        "colab": {
          "base_uri": "https://localhost:8080/"
        },
        "id": "_AhwXy-0tG_Z",
        "outputId": "3499ab26-5e2f-4ae4-8d0a-0117c21c07ef"
      },
      "source": [
        "for i in range(0,len(df)):\n",
        "    if(df['Sentiment'][i]=='Extremely Negative'):\n",
        "        df['Sentiment'][i]='Negative'\n",
        "    elif(df['Sentiment'][i]=='Extremely Positive'):\n",
        "        df['Sentiment'][i]='Positive'"
      ],
      "execution_count": 222,
      "outputs": [
        {
          "output_type": "stream",
          "text": [
            "/usr/local/lib/python3.7/dist-packages/ipykernel_launcher.py:3: SettingWithCopyWarning: \n",
            "A value is trying to be set on a copy of a slice from a DataFrame\n",
            "\n",
            "See the caveats in the documentation: https://pandas.pydata.org/pandas-docs/stable/user_guide/indexing.html#returning-a-view-versus-a-copy\n",
            "  This is separate from the ipykernel package so we can avoid doing imports until\n",
            "/usr/local/lib/python3.7/dist-packages/ipykernel_launcher.py:5: SettingWithCopyWarning: \n",
            "A value is trying to be set on a copy of a slice from a DataFrame\n",
            "\n",
            "See the caveats in the documentation: https://pandas.pydata.org/pandas-docs/stable/user_guide/indexing.html#returning-a-view-versus-a-copy\n",
            "  \"\"\"\n"
          ],
          "name": "stderr"
        }
      ]
    },
    {
      "cell_type": "code",
      "metadata": {
        "colab": {
          "base_uri": "https://localhost:8080/"
        },
        "id": "oPV26TWVtftt",
        "outputId": "67398149-6e12-4ca1-f5d5-097150638627"
      },
      "source": [
        "print(df['Sentiment'].unique())\n",
        "df['Sentiment'].isna().sum()"
      ],
      "execution_count": 223,
      "outputs": [
        {
          "output_type": "stream",
          "text": [
            "['Neutral' 'Positive' 'Negative']\n"
          ],
          "name": "stdout"
        },
        {
          "output_type": "execute_result",
          "data": {
            "text/plain": [
              "0"
            ]
          },
          "metadata": {
            "tags": []
          },
          "execution_count": 223
        }
      ]
    },
    {
      "cell_type": "code",
      "metadata": {
        "colab": {
          "base_uri": "https://localhost:8080/",
          "height": 204
        },
        "id": "bJvLd-YFtoJe",
        "outputId": "523df5f0-151e-47b1-9216-0a025dcbee04"
      },
      "source": [
        "from sklearn.preprocessing import LabelEncoder\n",
        "le=LabelEncoder()\n",
        "df['Sentiment']=le.fit_transform(df['Sentiment'])\n",
        "y=pd.get_dummies(df['Sentiment'])\n",
        "df.head()"
      ],
      "execution_count": 224,
      "outputs": [
        {
          "output_type": "execute_result",
          "data": {
            "text/html": [
              "<div>\n",
              "<style scoped>\n",
              "    .dataframe tbody tr th:only-of-type {\n",
              "        vertical-align: middle;\n",
              "    }\n",
              "\n",
              "    .dataframe tbody tr th {\n",
              "        vertical-align: top;\n",
              "    }\n",
              "\n",
              "    .dataframe thead th {\n",
              "        text-align: right;\n",
              "    }\n",
              "</style>\n",
              "<table border=\"1\" class=\"dataframe\">\n",
              "  <thead>\n",
              "    <tr style=\"text-align: right;\">\n",
              "      <th></th>\n",
              "      <th>UserName</th>\n",
              "      <th>ScreenName</th>\n",
              "      <th>Location</th>\n",
              "      <th>TweetAt</th>\n",
              "      <th>OriginalTweet</th>\n",
              "      <th>Sentiment</th>\n",
              "    </tr>\n",
              "  </thead>\n",
              "  <tbody>\n",
              "    <tr>\n",
              "      <th>0</th>\n",
              "      <td>3799</td>\n",
              "      <td>48751</td>\n",
              "      <td>London</td>\n",
              "      <td>16-03-2020</td>\n",
              "      <td>@MeNyrbie @Phil_Gahan @Chrisitv https://t.co/i...</td>\n",
              "      <td>1</td>\n",
              "    </tr>\n",
              "    <tr>\n",
              "      <th>1</th>\n",
              "      <td>3800</td>\n",
              "      <td>48752</td>\n",
              "      <td>UK</td>\n",
              "      <td>16-03-2020</td>\n",
              "      <td>advice Talk to your neighbours family to excha...</td>\n",
              "      <td>2</td>\n",
              "    </tr>\n",
              "    <tr>\n",
              "      <th>2</th>\n",
              "      <td>3801</td>\n",
              "      <td>48753</td>\n",
              "      <td>Vagabonds</td>\n",
              "      <td>16-03-2020</td>\n",
              "      <td>Coronavirus Australia: Woolworths to give elde...</td>\n",
              "      <td>2</td>\n",
              "    </tr>\n",
              "    <tr>\n",
              "      <th>3</th>\n",
              "      <td>3802</td>\n",
              "      <td>48754</td>\n",
              "      <td>NaN</td>\n",
              "      <td>16-03-2020</td>\n",
              "      <td>My food stock is not the only one which is emp...</td>\n",
              "      <td>2</td>\n",
              "    </tr>\n",
              "    <tr>\n",
              "      <th>4</th>\n",
              "      <td>3803</td>\n",
              "      <td>48755</td>\n",
              "      <td>NaN</td>\n",
              "      <td>16-03-2020</td>\n",
              "      <td>Me, ready to go at supermarket during the #COV...</td>\n",
              "      <td>0</td>\n",
              "    </tr>\n",
              "  </tbody>\n",
              "</table>\n",
              "</div>"
            ],
            "text/plain": [
              "   UserName  ...  Sentiment\n",
              "0      3799  ...          1\n",
              "1      3800  ...          2\n",
              "2      3801  ...          2\n",
              "3      3802  ...          2\n",
              "4      3803  ...          0\n",
              "\n",
              "[5 rows x 6 columns]"
            ]
          },
          "metadata": {
            "tags": []
          },
          "execution_count": 224
        }
      ]
    },
    {
      "cell_type": "code",
      "metadata": {
        "id": "4hVQRsm5uJpA"
      },
      "source": [
        "n=0\n",
        "ne=0\n",
        "p=0\n",
        "\n",
        "for i in range(0,len(df)):\n",
        "    if(df['Sentiment'][i]==0):\n",
        "        n=n+1\n",
        "    elif(df['Sentiment'][i]==1):\n",
        "        ne=ne+1\n",
        "    elif(df['Sentiment'][i]==2):\n",
        "        p=p+1"
      ],
      "execution_count": 225,
      "outputs": []
    },
    {
      "cell_type": "code",
      "metadata": {
        "colab": {
          "base_uri": "https://localhost:8080/"
        },
        "id": "eZ6Pl1xRuRVK",
        "outputId": "3b035142-b1c2-49d0-92f9-4b2e4317b0a7"
      },
      "source": [
        "print('Total Labels belonging to Negative Category are ',n)\n",
        "print('Total Labels belonging to Neutral Category are ',ne)\n",
        "print('Total Labels belonging to Positive Category are ',p)\n",
        "print('Total entries in the train dataset is ',len(df))"
      ],
      "execution_count": 226,
      "outputs": [
        {
          "output_type": "stream",
          "text": [
            "Total Labels belonging to Negative Category are  15398\n",
            "Total Labels belonging to Neutral Category are  7713\n",
            "Total Labels belonging to Positive Category are  18046\n",
            "Total entries in the train dataset is  41157\n"
          ],
          "name": "stdout"
        }
      ]
    },
    {
      "cell_type": "code",
      "metadata": {
        "id": "e7D01RXcuaHs"
      },
      "source": [
        "X=df.iloc[:,4]"
      ],
      "execution_count": 227,
      "outputs": []
    },
    {
      "cell_type": "code",
      "metadata": {
        "id": "9poLTStx06KV"
      },
      "source": [
        "from sklearn.model_selection import train_test_split\n",
        "train_text,validation_text,train_labels,validation_labels=train_test_split(X.to_numpy(),y.to_numpy(),test_size=0.2,random_state=42)"
      ],
      "execution_count": 228,
      "outputs": []
    },
    {
      "cell_type": "code",
      "metadata": {
        "id": "hSRwA5RUuwgq"
      },
      "source": [
        "import re\n",
        "import string\n",
        "import random"
      ],
      "execution_count": 229,
      "outputs": []
    },
    {
      "cell_type": "code",
      "metadata": {
        "id": "cnoihtfAvDt-"
      },
      "source": [
        "for i in range(0,len(train_text)):\n",
        "    temp=train_text[i]\n",
        "    temp=re.sub(\"@\\S+\", \" \", temp)\n",
        "    temp=re.sub(\"https*\\S+\", \" \", temp)\n",
        "    temp=re.sub(\"#\\S+\", \" \", temp)\n",
        "    temp=re.sub(\"\\'\\w+\", '', temp)\n",
        "    temp=re.sub('[%s]' % re.escape(string.punctuation), ' ', temp)\n",
        "    temp=re.sub(r'\\w*\\d+\\w*', '', temp)\n",
        "    temp=re.sub('\\s{2,}', \" \", temp)\n",
        "    train_text[i]=temp"
      ],
      "execution_count": 230,
      "outputs": []
    },
    {
      "cell_type": "code",
      "metadata": {
        "id": "ycrtCSdWvHQN"
      },
      "source": [
        "for i in range(0,len(validation_text)):\n",
        "    temp=validation_text[i]\n",
        "    temp=re.sub(\"@\\S+\", \" \", temp)\n",
        "    temp=re.sub(\"https*\\S+\", \" \", temp)\n",
        "    temp=re.sub(\"#\\S+\", \" \", temp)\n",
        "    temp=re.sub(\"\\'\\w+\", '', temp)\n",
        "    temp=re.sub('[%s]' % re.escape(string.punctuation), ' ', temp)\n",
        "    temp=re.sub(r'\\w*\\d+\\w*', '', temp)\n",
        "    temp=re.sub('\\s{2,}', \" \", temp)\n",
        "    validation_text[i]=temp"
      ],
      "execution_count": 231,
      "outputs": []
    },
    {
      "cell_type": "code",
      "metadata": {
        "id": "4bUjYcBV7599"
      },
      "source": [
        "import tensorflow as tf\n",
        "class myCallback(tf.keras.callbacks.Callback):\n",
        "  def on_epoch_end(self, epoch, logs={}):\n",
        "    if(logs.get('accuracy')>0.8 and logs.get('val_accuracy')>0.8):\n",
        "      print(\"\\nAkurasi telah mencapai >80%!\")\n",
        "      self.model.stop_training = True\n",
        "callbacks = myCallback()"
      ],
      "execution_count": 232,
      "outputs": []
    },
    {
      "cell_type": "code",
      "metadata": {
        "id": "0S5FeXc94Ey4"
      },
      "source": [
        "import tensorflow as tf\n",
        "from tensorflow.keras.preprocessing.text import Tokenizer\n",
        "from tensorflow.keras.preprocessing.sequence import pad_sequences\n",
        "\n",
        "sum_length_of_tweet=0\n",
        "for i in X:\n",
        "    temp=i\n",
        "    sum_length_of_tweet=sum_length_of_tweet+len(temp.split())\n",
        "\n",
        "tokenizer=Tokenizer(num_words=5000,oov_token='</OOV>')\n",
        "tokenizer.fit_on_texts(train_text)\n",
        "train_text_sequences=tokenizer.texts_to_sequences(train_text)\n",
        " \n",
        "train_text_padded=pad_sequences(train_text_sequences,maxlen=max_length,padding='post')\n",
        "validation_text_sequences=tokenizer.texts_to_sequences(validation_text)\n",
        "validation_text_padded=pad_sequences(validation_text_sequences,maxlen=max_length,padding='post')\n",
        " \n",
        "# padded_latih = pad_sequences(sekuens_latih) \n",
        "# padded_test = pad_sequences(sekuens_test)"
      ],
      "execution_count": 233,
      "outputs": []
    },
    {
      "cell_type": "code",
      "metadata": {
        "colab": {
          "base_uri": "https://localhost:8080/"
        },
        "id": "3YqNSWBDv5Cf",
        "outputId": "c44254ad-01dd-4abb-a14b-2782ea405e9e"
      },
      "source": [
        "max_length=round(sum_length_of_tweet/len(X))\n",
        "print(max_length)"
      ],
      "execution_count": 234,
      "outputs": [
        {
          "output_type": "stream",
          "text": [
            "31\n"
          ],
          "name": "stdout"
        }
      ]
    },
    {
      "cell_type": "code",
      "metadata": {
        "colab": {
          "base_uri": "https://localhost:8080/"
        },
        "id": "DO74JBwBwkdk",
        "outputId": "3f8d1582-ccc1-4d82-ae63-3b52234a0d50"
      },
      "source": [
        "train_text_padded.shape[1]"
      ],
      "execution_count": 235,
      "outputs": [
        {
          "output_type": "execute_result",
          "data": {
            "text/plain": [
              "31"
            ]
          },
          "metadata": {
            "tags": []
          },
          "execution_count": 235
        }
      ]
    },
    {
      "cell_type": "code",
      "metadata": {
        "id": "qXWe9VZY7DM2",
        "colab": {
          "base_uri": "https://localhost:8080/"
        },
        "outputId": "2a57390a-34a6-44fa-e60a-082b6245def5"
      },
      "source": [
        "import tensorflow as tf\n",
        "model=tf.keras.models.Sequential([\n",
        "    tf.keras.layers.Embedding(5000,128,input_length=train_text_padded.shape[1]),    \n",
        "    tf.keras.layers.Bidirectional(tf.keras.layers.LSTM(64,return_sequences=True)),\n",
        "    tf.keras.layers.Bidirectional(tf.keras.layers.LSTM(32)),\n",
        "    tf.keras.layers.Dense(8,activation='relu'),\n",
        "    tf.keras.layers.Dropout(0.2),\n",
        "    tf.keras.layers.Dense(16,activation='relu'),\n",
        "    tf.keras.layers.Dropout(0.4),\n",
        "    tf.keras.layers.Dense(3,activation='softmax')\n",
        "])\n",
        "model.summary()\n",
        "model.compile(loss='categorical_crossentropy',optimizer='adam',metrics=['accuracy'])"
      ],
      "execution_count": 236,
      "outputs": [
        {
          "output_type": "stream",
          "text": [
            "Model: \"sequential_16\"\n",
            "_________________________________________________________________\n",
            "Layer (type)                 Output Shape              Param #   \n",
            "=================================================================\n",
            "embedding_16 (Embedding)     (None, 31, 128)           640000    \n",
            "_________________________________________________________________\n",
            "bidirectional_8 (Bidirection (None, 31, 128)           98816     \n",
            "_________________________________________________________________\n",
            "bidirectional_9 (Bidirection (None, 64)                41216     \n",
            "_________________________________________________________________\n",
            "dense_43 (Dense)             (None, 8)                 520       \n",
            "_________________________________________________________________\n",
            "dropout_21 (Dropout)         (None, 8)                 0         \n",
            "_________________________________________________________________\n",
            "dense_44 (Dense)             (None, 16)                144       \n",
            "_________________________________________________________________\n",
            "dropout_22 (Dropout)         (None, 16)                0         \n",
            "_________________________________________________________________\n",
            "dense_45 (Dense)             (None, 3)                 51        \n",
            "=================================================================\n",
            "Total params: 780,747\n",
            "Trainable params: 780,747\n",
            "Non-trainable params: 0\n",
            "_________________________________________________________________\n"
          ],
          "name": "stdout"
        }
      ]
    },
    {
      "cell_type": "code",
      "metadata": {
        "colab": {
          "base_uri": "https://localhost:8080/"
        },
        "id": "b1bpHiAJxRrT",
        "outputId": "2aada1bf-023b-42ef-d5ec-6dbf3ce2ab8a"
      },
      "source": [
        "history=model.fit(train_text_padded,train_labels,epochs=10,\n",
        "                      validation_data=(validation_text_padded,validation_labels),callbacks=[callbacks])"
      ],
      "execution_count": 237,
      "outputs": [
        {
          "output_type": "stream",
          "text": [
            "Epoch 1/10\n",
            "1029/1029 [==============================] - 82s 74ms/step - loss: 0.8116 - accuracy: 0.6168 - val_loss: 0.5039 - val_accuracy: 0.8157\n",
            "Epoch 2/10\n",
            "1029/1029 [==============================] - 75s 72ms/step - loss: 0.5197 - accuracy: 0.8228 - val_loss: 0.4580 - val_accuracy: 0.8366\n",
            "\n",
            "Akurasi telah mencapai >80%!\n"
          ],
          "name": "stdout"
        }
      ]
    },
    {
      "cell_type": "code",
      "metadata": {
        "colab": {
          "base_uri": "https://localhost:8080/",
          "height": 295
        },
        "id": "0sTbv3OL2j-I",
        "outputId": "425c6359-6aae-44ba-fa87-f1d80677c1dd"
      },
      "source": [
        "import matplotlib.pyplot as plt\n",
        "plt.plot(history.history['loss'])\n",
        "plt.title('Model loss')\n",
        "plt.ylabel('Loss')\n",
        "plt.xlabel('Epoch')\n",
        "plt.legend(['Train'], loc='upper right')\n",
        "plt.show()"
      ],
      "execution_count": 240,
      "outputs": [
        {
          "output_type": "display_data",
          "data": {
            "image/png": "[encoded data removed]",
            "text/plain": [
              "<Figure size 432x288 with 1 Axes>"
            ]
          },
          "metadata": {
            "tags": [],
            "needs_background": "light"
          }
        }
      ]
    },
    {
      "cell_type": "code",
      "metadata": {
        "colab": {
          "base_uri": "https://localhost:8080/",
          "height": 295
        },
        "id": "xJuGUS3q8s-8",
        "outputId": "f8c03f17-17f6-4f9a-b331-6516fcc53e16"
      },
      "source": [
        "plt.plot(history.history['accuracy'])\n",
        "plt.title('Model accuracy')\n",
        "plt.ylabel('Accuracy')\n",
        "plt.xlabel('Epoch')\n",
        "plt.legend(['Train'], loc='lower right')\n",
        "plt.show()"
      ],
      "execution_count": 241,
      "outputs": [
        {
          "output_type": "display_data",
          "data": {
            "image/png": "[encoded data removed]",
            "text/plain": [
              "<Figure size 432x288 with 1 Axes>"
            ]
          },
          "metadata": {
            "tags": [],
            "needs_background": "light"
          }
        }
      ]
    },
    {
      "cell_type": "code",
      "metadata": {
        "colab": {
          "base_uri": "https://localhost:8080/",
          "height": 295
        },
        "id": "esLBh0Bh8uCm",
        "outputId": "b3e7343b-ed02-44a8-dcc5-4f29739f743c"
      },
      "source": [
        "plt.plot(history.history['val_loss'])\n",
        "plt.title('validation Loss')\n",
        "plt.ylabel('Loss')\n",
        "plt.xlabel('Epoch')\n",
        "plt.legend(['validation'], loc='lower right')\n",
        "plt.show()"
      ],
      "execution_count": 242,
      "outputs": [
        {
          "output_type": "display_data",
          "data": {
            "image/png": "[encoded data removed]",
            "text/plain": [
              "<Figure size 432x288 with 1 Axes>"
            ]
          },
          "metadata": {
            "tags": [],
            "needs_background": "light"
          }
        }
      ]
    },
    {
      "cell_type": "code",
      "metadata": {
        "colab": {
          "base_uri": "https://localhost:8080/",
          "height": 295
        },
        "id": "lAsEjTiE8xMd",
        "outputId": "4b379029-2962-46c7-d001-f1b3887949c6"
      },
      "source": [
        "plt.plot(history.history['val_accuracy'])\n",
        "plt.title('validation accuracy')\n",
        "plt.ylabel('Accuracy')\n",
        "plt.xlabel('Epoch')\n",
        "plt.legend(['validation'], loc='lower right')\n",
        "plt.show()"
      ],
      "execution_count": 243,
      "outputs": [
        {
          "output_type": "display_data",
          "data": {
            "image/png": "[encoded data removed]",
            "text/plain": [
              "<Figure size 432x288 with 1 Axes>"
            ]
          },
          "metadata": {
            "tags": [],
            "needs_background": "light"
          }
        }
      ]
    },
    {
      "cell_type": "code",
      "metadata": {
        "id": "W8tnMrKI8mLk"
      },
      "source": [
        ""
      ],
      "execution_count": null,
      "outputs": []
    },
    {
      "cell_type": "code",
      "metadata": {
        "id": "EneA7TKYD1g9"
      },
      "source": [
        "print('Nama                 : Muhammad Amien Ramdhani')\n",
        "print('Username dicoding    : amienramdhani')\n",
        "print('email                : dhanimacbull@gmail.com')\n",
        "print('No telepon           : 085797249521')\n",
        "print('Kota domisili        : Kabupaten Cirebon')\n",
        "print('Tempat Tanggal Lahir : Jakarta,08 Desember 2001')\n",
        "print('Pendidikan terakhir  : Diploma-II di Pesantren Teknologi Informasi dan komunikasi(PeTIK) Depok')\n",
        "print('Pendidikan Sekarang  : STT Terpadu Nurul Fikri Depok')"
      ],
      "execution_count": null,
      "outputs": []
    }
  ]
}